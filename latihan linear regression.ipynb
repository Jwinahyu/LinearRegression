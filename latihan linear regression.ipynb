{
 "cells": [
  {
   "cell_type": "markdown",
   "id": "20cb85e6",
   "metadata": {},
   "source": [
    "### latihan projek Linear regression"
   ]
  },
  {
   "cell_type": "markdown",
   "id": "aac9f00b",
   "metadata": {},
   "source": [
    "#### y = mx + b + e\n",
    "y = dependent variable\n",
    "\n",
    "m = slope dari garis (persamaan diatas merupakan sebuah garis)\n",
    "\n",
    "x = independent variable\n",
    "\n",
    "b = intercept\n",
    "\n",
    "e = error"
   ]
  },
  {
   "cell_type": "code",
   "execution_count": 6,
   "id": "f07f98c0",
   "metadata": {},
   "outputs": [
    {
     "data": {
      "text/html": [
       "<div>\n",
       "<style scoped>\n",
       "    .dataframe tbody tr th:only-of-type {\n",
       "        vertical-align: middle;\n",
       "    }\n",
       "\n",
       "    .dataframe tbody tr th {\n",
       "        vertical-align: top;\n",
       "    }\n",
       "\n",
       "    .dataframe thead th {\n",
       "        text-align: right;\n",
       "    }\n",
       "</style>\n",
       "<table border=\"1\" class=\"dataframe\">\n",
       "  <thead>\n",
       "    <tr style=\"text-align: right;\">\n",
       "      <th></th>\n",
       "      <th>horsepower</th>\n",
       "      <th>price</th>\n",
       "    </tr>\n",
       "  </thead>\n",
       "  <tbody>\n",
       "    <tr>\n",
       "      <th>0</th>\n",
       "      <td>111.0</td>\n",
       "      <td>13495.0</td>\n",
       "    </tr>\n",
       "    <tr>\n",
       "      <th>1</th>\n",
       "      <td>111.0</td>\n",
       "      <td>16500.0</td>\n",
       "    </tr>\n",
       "    <tr>\n",
       "      <th>2</th>\n",
       "      <td>154.0</td>\n",
       "      <td>16500.0</td>\n",
       "    </tr>\n",
       "    <tr>\n",
       "      <th>3</th>\n",
       "      <td>102.0</td>\n",
       "      <td>13950.0</td>\n",
       "    </tr>\n",
       "    <tr>\n",
       "      <th>4</th>\n",
       "      <td>115.0</td>\n",
       "      <td>17450.0</td>\n",
       "    </tr>\n",
       "    <tr>\n",
       "      <th>...</th>\n",
       "      <td>...</td>\n",
       "      <td>...</td>\n",
       "    </tr>\n",
       "    <tr>\n",
       "      <th>195</th>\n",
       "      <td>114.0</td>\n",
       "      <td>16845.0</td>\n",
       "    </tr>\n",
       "    <tr>\n",
       "      <th>196</th>\n",
       "      <td>160.0</td>\n",
       "      <td>19045.0</td>\n",
       "    </tr>\n",
       "    <tr>\n",
       "      <th>197</th>\n",
       "      <td>134.0</td>\n",
       "      <td>21485.0</td>\n",
       "    </tr>\n",
       "    <tr>\n",
       "      <th>198</th>\n",
       "      <td>106.0</td>\n",
       "      <td>22470.0</td>\n",
       "    </tr>\n",
       "    <tr>\n",
       "      <th>199</th>\n",
       "      <td>114.0</td>\n",
       "      <td>22625.0</td>\n",
       "    </tr>\n",
       "  </tbody>\n",
       "</table>\n",
       "<p>200 rows × 2 columns</p>\n",
       "</div>"
      ],
      "text/plain": [
       "     horsepower    price\n",
       "0         111.0  13495.0\n",
       "1         111.0  16500.0\n",
       "2         154.0  16500.0\n",
       "3         102.0  13950.0\n",
       "4         115.0  17450.0\n",
       "..          ...      ...\n",
       "195       114.0  16845.0\n",
       "196       160.0  19045.0\n",
       "197       134.0  21485.0\n",
       "198       106.0  22470.0\n",
       "199       114.0  22625.0\n",
       "\n",
       "[200 rows x 2 columns]"
      ]
     },
     "execution_count": 6,
     "metadata": {},
     "output_type": "execute_result"
    }
   ],
   "source": [
    "import pandas as pd\n",
    "# hanya menggunakan colom hoursepower dan price\n",
    "df = pd.read_csv('E:\\\\data.csv',usecols=['horsepower', 'price'])\n",
    "df"
   ]
  },
  {
   "cell_type": "code",
   "execution_count": 9,
   "id": "f492168b",
   "metadata": {},
   "outputs": [
    {
     "data": {
      "text/plain": [
       "(200, 2)"
      ]
     },
     "execution_count": 9,
     "metadata": {},
     "output_type": "execute_result"
    }
   ],
   "source": [
    "df.shape"
   ]
  },
  {
   "cell_type": "code",
   "execution_count": 12,
   "id": "73888e5e",
   "metadata": {},
   "outputs": [
    {
     "name": "stdout",
     "output_type": "stream",
     "text": [
      "<class 'pandas.core.frame.DataFrame'>\n",
      "RangeIndex: 200 entries, 0 to 199\n",
      "Data columns (total 2 columns):\n",
      " #   Column      Non-Null Count  Dtype  \n",
      "---  ------      --------------  -----  \n",
      " 0   horsepower  200 non-null    float64\n",
      " 1   price       200 non-null    float64\n",
      "dtypes: float64(2)\n",
      "memory usage: 3.2 KB\n"
     ]
    }
   ],
   "source": [
    "df.info()"
   ]
  },
  {
   "cell_type": "code",
   "execution_count": 15,
   "id": "44892b3f",
   "metadata": {},
   "outputs": [
    {
     "data": {
      "text/html": [
       "<div>\n",
       "<style scoped>\n",
       "    .dataframe tbody tr th:only-of-type {\n",
       "        vertical-align: middle;\n",
       "    }\n",
       "\n",
       "    .dataframe tbody tr th {\n",
       "        vertical-align: top;\n",
       "    }\n",
       "\n",
       "    .dataframe thead th {\n",
       "        text-align: right;\n",
       "    }\n",
       "</style>\n",
       "<table border=\"1\" class=\"dataframe\">\n",
       "  <thead>\n",
       "    <tr style=\"text-align: right;\">\n",
       "      <th></th>\n",
       "      <th>horsepower</th>\n",
       "      <th>price</th>\n",
       "    </tr>\n",
       "  </thead>\n",
       "  <tbody>\n",
       "    <tr>\n",
       "      <th>count</th>\n",
       "      <td>200.000000</td>\n",
       "      <td>200.000000</td>\n",
       "    </tr>\n",
       "    <tr>\n",
       "      <th>mean</th>\n",
       "      <td>103.320000</td>\n",
       "      <td>13230.375000</td>\n",
       "    </tr>\n",
       "    <tr>\n",
       "      <th>std</th>\n",
       "      <td>37.468615</td>\n",
       "      <td>7960.155239</td>\n",
       "    </tr>\n",
       "    <tr>\n",
       "      <th>min</th>\n",
       "      <td>48.000000</td>\n",
       "      <td>5118.000000</td>\n",
       "    </tr>\n",
       "    <tr>\n",
       "      <th>25%</th>\n",
       "      <td>70.000000</td>\n",
       "      <td>7775.000000</td>\n",
       "    </tr>\n",
       "    <tr>\n",
       "      <th>50%</th>\n",
       "      <td>95.000000</td>\n",
       "      <td>10320.000000</td>\n",
       "    </tr>\n",
       "    <tr>\n",
       "      <th>75%</th>\n",
       "      <td>116.000000</td>\n",
       "      <td>16500.750000</td>\n",
       "    </tr>\n",
       "    <tr>\n",
       "      <th>max</th>\n",
       "      <td>262.000000</td>\n",
       "      <td>45400.000000</td>\n",
       "    </tr>\n",
       "  </tbody>\n",
       "</table>\n",
       "</div>"
      ],
      "text/plain": [
       "       horsepower         price\n",
       "count  200.000000    200.000000\n",
       "mean   103.320000  13230.375000\n",
       "std     37.468615   7960.155239\n",
       "min     48.000000   5118.000000\n",
       "25%     70.000000   7775.000000\n",
       "50%     95.000000  10320.000000\n",
       "75%    116.000000  16500.750000\n",
       "max    262.000000  45400.000000"
      ]
     },
     "execution_count": 15,
     "metadata": {},
     "output_type": "execute_result"
    }
   ],
   "source": [
    "df.describe()"
   ]
  },
  {
   "cell_type": "code",
   "execution_count": 17,
   "id": "a554836a",
   "metadata": {},
   "outputs": [
    {
     "data": {
      "text/plain": [
       "horsepower    0\n",
       "price         0\n",
       "dtype: int64"
      ]
     },
     "execution_count": 17,
     "metadata": {},
     "output_type": "execute_result"
    }
   ],
   "source": [
    "#cek data missing values\n",
    "df.isnull().sum()"
   ]
  },
  {
   "cell_type": "code",
   "execution_count": 95,
   "id": "5f3896c1",
   "metadata": {},
   "outputs": [
    {
     "data": {
      "image/png": "[encoded data removed]",
      "text/plain": [
       "<Figure size 432x288 with 1 Axes>"
      ]
     },
     "metadata": {
      "needs_background": "light"
     },
     "output_type": "display_data"
    }
   ],
   "source": [
    "import matplotlib.pyplot as plt\n",
    "\n",
    "df.plot(kind='scatter', x='horsepower', y='price')\n",
    "\n",
    "plt.title('prediksi harga mobil')\n",
    "plt.xlabel('horsepower')\n",
    "plt.ylabel('price')\n",
    "plt.grid(True)\n",
    "plt.show()"
   ]
  },
  {
   "cell_type": "markdown",
   "id": "b5c0039c",
   "metadata": {},
   "source": [
    "-Dari scatter plot dapat dilihat secara kasat mata bahwa data memiliki korelasi positif yang cukup signifikan.\n",
    "\n",
    "-Hal ini berarti dengan bertambahnya nilai dari horsepower maka nilai price pun akan bertambah."
   ]
  },
  {
   "cell_type": "code",
   "execution_count": 25,
   "id": "1ecb58ca",
   "metadata": {},
   "outputs": [
    {
     "data": {
      "image/png": "[encoded data removed]",
      "text/plain": [
       "<Figure size 648x288 with 2 Axes>"
      ]
     },
     "metadata": {
      "needs_background": "light"
     },
     "output_type": "display_data"
    }
   ],
   "source": [
    "#Melakukan Exploratory Data Analysis (EDA)\n",
    "#dan menemukan insights dari data.\n",
    "#Univariate analysis horsepower.\n",
    "#Melihat distribusi dari horsepower.\n",
    "\n",
    "f = plt.figure(figsize=(9,4))\n",
    "f.add_subplot(1,2,1)\n",
    "df['horsepower'].plot(kind='kde')\n",
    "f.add_subplot(1,2,2)\n",
    "plt.boxplot(df['horsepower'])\n",
    "plt.show()"
   ]
  },
  {
   "cell_type": "markdown",
   "id": "5604b18a",
   "metadata": {},
   "source": [
    "result insights\n",
    "\n",
    "-Dapat dilihat bahwa mean dan median dari horsepower terpusat di sekitar nilai 100\n",
    "-Distribusinya hampir mirip dengan distribusi normal namun persebaran data kurang merata (memiliki standard deviasi yang tinggi) karena memiliki whiskers boxplot yang panjang\n",
    "-3 outliers data yang bisa dilihat di boxplot"
   ]
  },
  {
   "cell_type": "code",
   "execution_count": 26,
   "id": "5f6c2b8c",
   "metadata": {},
   "outputs": [
    {
     "data": {
      "image/png": "[encoded data removed]",
      "text/plain": [
       "<Figure size 648x288 with 2 Axes>"
      ]
     },
     "metadata": {
      "needs_background": "light"
     },
     "output_type": "display_data"
    }
   ],
   "source": [
    "#Univariate analysis price.\n",
    "#Melihat distribusi dari price.\n",
    "\n",
    "f = plt.figure(figsize=(9,4))\n",
    "f.add_subplot(1,2,1)\n",
    "df['price'].plot(kind='kde', c='g')\n",
    "f.add_subplot(1,2,2)\n",
    "plt.boxplot(df['price'])\n",
    "plt.show()"
   ]
  },
  {
   "cell_type": "markdown",
   "id": "f0b29bfc",
   "metadata": {},
   "source": [
    "result insights\n",
    "\n",
    "-Mean dan median dari horsepower terpusat di sekitar nilai 10000.\n",
    "\n",
    "-Distribusinya lebih ke right skew dan persebaran data kurang merata (memiliki standard deviasi yang tinggi).\n",
    "\n",
    "-Data memiliki banyak outliers jika dibandingkan dengan horsepower."
   ]
  },
  {
   "cell_type": "code",
   "execution_count": 27,
   "id": "74962b9b",
   "metadata": {},
   "outputs": [
    {
     "data": {
      "text/html": [
       "<div>\n",
       "<style scoped>\n",
       "    .dataframe tbody tr th:only-of-type {\n",
       "        vertical-align: middle;\n",
       "    }\n",
       "\n",
       "    .dataframe tbody tr th {\n",
       "        vertical-align: top;\n",
       "    }\n",
       "\n",
       "    .dataframe thead th {\n",
       "        text-align: right;\n",
       "    }\n",
       "</style>\n",
       "<table border=\"1\" class=\"dataframe\">\n",
       "  <thead>\n",
       "    <tr style=\"text-align: right;\">\n",
       "      <th></th>\n",
       "      <th>horsepower</th>\n",
       "      <th>price</th>\n",
       "    </tr>\n",
       "  </thead>\n",
       "  <tbody>\n",
       "    <tr>\n",
       "      <th>horsepower</th>\n",
       "      <td>1.000000</td>\n",
       "      <td>0.811097</td>\n",
       "    </tr>\n",
       "    <tr>\n",
       "      <th>price</th>\n",
       "      <td>0.811097</td>\n",
       "      <td>1.000000</td>\n",
       "    </tr>\n",
       "  </tbody>\n",
       "</table>\n",
       "</div>"
      ],
      "text/plain": [
       "            horsepower     price\n",
       "horsepower    1.000000  0.811097\n",
       "price         0.811097  1.000000"
      ]
     },
     "execution_count": 27,
     "metadata": {},
     "output_type": "execute_result"
    }
   ],
   "source": [
    "#Mengetahui nilai korelasi dari horsepower dan price.\n",
    "#Nilai korelasinya adalah 0.81 termasuk kategori sangat tinggi.\n",
    "df.corr()"
   ]
  },
  {
   "cell_type": "markdown",
   "id": "d46f6eef",
   "metadata": {},
   "source": [
    "### Setelah kita mengetahui karakteristik dari data kita, maka tahapan selanjutnya adalah Modelling."
   ]
  },
  {
   "cell_type": "code",
   "execution_count": 84,
   "id": "90e233ba",
   "metadata": {},
   "outputs": [],
   "source": [
    "# create variable x dan y.\n",
    "import numpy as np\n",
    "\n",
    "x = df['horsepower'].values.reshape(-1,1)\n",
    "y = df['price'].values.reshape(-1,1)\n",
    "\n",
    "#print(f'x: {x}')\n",
    "#print(f'y: {y}')"
   ]
  },
  {
   "cell_type": "code",
   "execution_count": 85,
   "id": "e366bbbe",
   "metadata": {},
   "outputs": [],
   "source": [
    "from sklearn.model_selection import train_test_split\n",
    "x_train, x_test, y_train, y_test = train_test_split(x, y, test_size=0.2)"
   ]
  },
  {
   "cell_type": "code",
   "execution_count": 89,
   "id": "b490bb65",
   "metadata": {},
   "outputs": [
    {
     "data": {
      "text/plain": [
       "LinearRegression()"
      ]
     },
     "execution_count": 89,
     "metadata": {},
     "output_type": "execute_result"
    }
   ],
   "source": [
    "#training simple linear regression model\n",
    "from sklearn.linear_model import LinearRegression\n",
    "\n",
    "model = LinearRegression()\n",
    "model.fit(x_train,y_train)"
   ]
  },
  {
   "cell_type": "code",
   "execution_count": 91,
   "id": "16abbb49",
   "metadata": {},
   "outputs": [
    {
     "name": "stdout",
     "output_type": "stream",
     "text": [
      "[[164.55684359]]\n",
      "[-3927.56361989]\n"
     ]
    }
   ],
   "source": [
    "print(model.coef_)\n",
    "print(model.intercept_)"
   ]
  },
  {
   "cell_type": "code",
   "execution_count": 92,
   "id": "27c77933",
   "metadata": {},
   "outputs": [
    {
     "data": {
      "text/plain": [
       "0.6492373545819949"
      ]
     },
     "execution_count": 92,
     "metadata": {},
     "output_type": "execute_result"
    }
   ],
   "source": [
    "model.score(x_test, y_test)"
   ]
  },
  {
   "cell_type": "markdown",
   "id": "cdbbc324",
   "metadata": {},
   "source": [
    "Model kita mendapatkan accuracy score sebesar 64,92%"
   ]
  },
  {
   "cell_type": "code",
   "execution_count": 94,
   "id": "8b76ecd6",
   "metadata": {},
   "outputs": [
    {
     "data": {
      "text/plain": [
       "Text(0.5, 1.0, 'Plot Horsepower vs Price')"
      ]
     },
     "execution_count": 94,
     "metadata": {},
     "output_type": "execute_result"
    },
    {
     "data": {
      "image/png": "[encoded data removed]",
      "text/plain": [
       "<Figure size 432x288 with 1 Axes>"
      ]
     },
     "metadata": {
      "needs_background": "light"
     },
     "output_type": "display_data"
    }
   ],
   "source": [
    "y_prediksi = model.predict(x_test)\n",
    "plt.scatter(x_test, y_test)\n",
    "plt.plot(x_test, y_prediksi, c='r')\n",
    "plt.xlabel('Horsepower')\n",
    "plt.ylabel('Price')\n",
    "plt.title('Plot Horsepower vs Price')"
   ]
  },
  {
   "cell_type": "markdown",
   "id": "4ef6f69f",
   "metadata": {},
   "source": [
    "Garis merah merupakan Regression Line dari model yang telah dibuat sebelumnya."
   ]
  },
  {
   "cell_type": "code",
   "execution_count": 96,
   "id": "6eb37657",
   "metadata": {},
   "outputs": [
    {
     "data": {
      "text/plain": [
       "array([[12528.1207393]])"
      ]
     },
     "execution_count": 96,
     "metadata": {},
     "output_type": "execute_result"
    }
   ],
   "source": [
    "#Prediksi harga mobil dengan horsepower 100.\n",
    "model.predict([[100]])"
   ]
  },
  {
   "cell_type": "code",
   "execution_count": 98,
   "id": "58c3407a",
   "metadata": {},
   "outputs": [
    {
     "data": {
      "text/plain": [
       "array([[20755.9629189]])"
      ]
     },
     "execution_count": 98,
     "metadata": {},
     "output_type": "execute_result"
    }
   ],
   "source": [
    "#Prediksi harga mobil dengan horsepower 150.\n",
    "model.predict([[150]])"
   ]
  },
  {
   "cell_type": "code",
   "execution_count": 99,
   "id": "07bdcdfc",
   "metadata": {},
   "outputs": [
    {
     "data": {
      "text/plain": [
       "array([[28983.8050985]])"
      ]
     },
     "execution_count": 99,
     "metadata": {},
     "output_type": "execute_result"
    }
   ],
   "source": [
    "#Prediksi harga mobil dengan horsepower 200.\n",
    "model.predict([[200]])"
   ]
  },
  {
   "cell_type": "code",
   "execution_count": 100,
   "id": "36717e99",
   "metadata": {},
   "outputs": [
    {
     "data": {
      "text/plain": [
       "array([[61895.17381688]])"
      ]
     },
     "execution_count": 100,
     "metadata": {},
     "output_type": "execute_result"
    }
   ],
   "source": [
    "#Prediksi harga mobil dengan horsepower 400.\n",
    "model.predict([[400]])"
   ]
  },
  {
   "cell_type": "code",
   "execution_count": null,
   "id": "167fb4c6",
   "metadata": {},
   "outputs": [],
   "source": []
  }
 ],
 "metadata": {
  "kernelspec": {
   "display_name": "Python 3",
   "language": "python",
   "name": "python3"
  },
  "language_info": {
   "codemirror_mode": {
    "name": "ipython",
    "version": 3
   },
   "file_extension": ".py",
   "mimetype": "text/x-python",
   "name": "python",
   "nbconvert_exporter": "python",
   "pygments_lexer": "ipython3",
   "version": "3.9.4"
  }
 },
 "nbformat": 4,
 "nbformat_minor": 5
}
